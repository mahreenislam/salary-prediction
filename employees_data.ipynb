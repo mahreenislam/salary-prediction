{
 "cells": [
  {
   "cell_type": "code",
   "execution_count": 19,
   "id": "d365105d-49ba-4d4b-b571-3f973af38207",
   "metadata": {},
   "outputs": [
    {
     "name": "stdout",
     "output_type": "stream",
     "text": [
      "Defaulting to user installation because normal site-packages is not writeable\n",
      "Requirement already satisfied: catboost in c:\\users\\ather\\appdata\\roaming\\python\\python312\\site-packages (1.2.8)\n",
      "Requirement already satisfied: graphviz in c:\\users\\ather\\appdata\\roaming\\python\\python312\\site-packages (from catboost) (0.21)\n",
      "Requirement already satisfied: matplotlib in d:\\anaconda\\lib\\site-packages (from catboost) (3.9.2)\n",
      "Requirement already satisfied: numpy<3.0,>=1.16.0 in d:\\anaconda\\lib\\site-packages (from catboost) (1.26.4)\n",
      "Requirement already satisfied: pandas>=0.24 in d:\\anaconda\\lib\\site-packages (from catboost) (2.2.2)\n",
      "Requirement already satisfied: scipy in d:\\anaconda\\lib\\site-packages (from catboost) (1.13.1)\n",
      "Requirement already satisfied: plotly in d:\\anaconda\\lib\\site-packages (from catboost) (5.24.1)\n",
      "Requirement already satisfied: six in d:\\anaconda\\lib\\site-packages (from catboost) (1.16.0)\n",
      "Requirement already satisfied: python-dateutil>=2.8.2 in d:\\anaconda\\lib\\site-packages (from pandas>=0.24->catboost) (2.9.0.post0)\n",
      "Requirement already satisfied: pytz>=2020.1 in d:\\anaconda\\lib\\site-packages (from pandas>=0.24->catboost) (2024.1)\n",
      "Requirement already satisfied: tzdata>=2022.7 in d:\\anaconda\\lib\\site-packages (from pandas>=0.24->catboost) (2023.3)\n",
      "Requirement already satisfied: contourpy>=1.0.1 in d:\\anaconda\\lib\\site-packages (from matplotlib->catboost) (1.2.0)\n",
      "Requirement already satisfied: cycler>=0.10 in d:\\anaconda\\lib\\site-packages (from matplotlib->catboost) (0.11.0)\n",
      "Requirement already satisfied: fonttools>=4.22.0 in d:\\anaconda\\lib\\site-packages (from matplotlib->catboost) (4.51.0)\n",
      "Requirement already satisfied: kiwisolver>=1.3.1 in d:\\anaconda\\lib\\site-packages (from matplotlib->catboost) (1.4.4)\n",
      "Requirement already satisfied: packaging>=20.0 in d:\\anaconda\\lib\\site-packages (from matplotlib->catboost) (24.1)\n",
      "Requirement already satisfied: pillow>=8 in d:\\anaconda\\lib\\site-packages (from matplotlib->catboost) (10.4.0)\n",
      "Requirement already satisfied: pyparsing>=2.3.1 in d:\\anaconda\\lib\\site-packages (from matplotlib->catboost) (3.1.2)\n",
      "Requirement already satisfied: tenacity>=6.2.0 in d:\\anaconda\\lib\\site-packages (from plotly->catboost) (8.2.3)\n"
     ]
    }
   ],
   "source": [
    "!pip install catboost"
   ]
  },
  {
   "cell_type": "code",
   "execution_count": 20,
   "id": "3cc92d8b-07ed-4e0f-8563-b07c2353ebbd",
   "metadata": {},
   "outputs": [],
   "source": [
    "import numpy as np\n",
    "import pandas as pd\n",
    "from catboost import CatBoostRegressor, Pool\n",
    "from sklearn.model_selection import train_test_split\n",
    "from sklearn.metrics import  root_mean_squared_error, mean_absolute_error, r2_score"
   ]
  },
  {
   "cell_type": "code",
   "execution_count": 21,
   "id": "fc526d2a-3c33-4173-9073-f6332a8db3b9",
   "metadata": {},
   "outputs": [
    {
     "data": {
      "text/html": [
       "<div>\n",
       "<style scoped>\n",
       "    .dataframe tbody tr th:only-of-type {\n",
       "        vertical-align: middle;\n",
       "    }\n",
       "\n",
       "    .dataframe tbody tr th {\n",
       "        vertical-align: top;\n",
       "    }\n",
       "\n",
       "    .dataframe thead th {\n",
       "        text-align: right;\n",
       "    }\n",
       "</style>\n",
       "<table border=\"1\" class=\"dataframe\">\n",
       "  <thead>\n",
       "    <tr style=\"text-align: right;\">\n",
       "      <th></th>\n",
       "      <th>Department</th>\n",
       "      <th>Job_Title</th>\n",
       "      <th>Experience_Years</th>\n",
       "      <th>Education_Level</th>\n",
       "      <th>Salary</th>\n",
       "    </tr>\n",
       "  </thead>\n",
       "  <tbody>\n",
       "    <tr>\n",
       "      <th>0</th>\n",
       "      <td>Engineering</td>\n",
       "      <td>Engineer</td>\n",
       "      <td>1</td>\n",
       "      <td>Master</td>\n",
       "      <td>90000</td>\n",
       "    </tr>\n",
       "    <tr>\n",
       "      <th>1</th>\n",
       "      <td>Sales</td>\n",
       "      <td>Executive</td>\n",
       "      <td>33</td>\n",
       "      <td>Master</td>\n",
       "      <td>195000</td>\n",
       "    </tr>\n",
       "    <tr>\n",
       "      <th>2</th>\n",
       "      <td>Engineering</td>\n",
       "      <td>Intern</td>\n",
       "      <td>1</td>\n",
       "      <td>Bachelor</td>\n",
       "      <td>35000</td>\n",
       "    </tr>\n",
       "    <tr>\n",
       "      <th>3</th>\n",
       "      <td>Finance</td>\n",
       "      <td>Analyst</td>\n",
       "      <td>9</td>\n",
       "      <td>Bachelor</td>\n",
       "      <td>75000</td>\n",
       "    </tr>\n",
       "    <tr>\n",
       "      <th>4</th>\n",
       "      <td>HR</td>\n",
       "      <td>Analyst</td>\n",
       "      <td>2</td>\n",
       "      <td>Master</td>\n",
       "      <td>70000</td>\n",
       "    </tr>\n",
       "    <tr>\n",
       "      <th>...</th>\n",
       "      <td>...</td>\n",
       "      <td>...</td>\n",
       "      <td>...</td>\n",
       "      <td>...</td>\n",
       "      <td>...</td>\n",
       "    </tr>\n",
       "    <tr>\n",
       "      <th>9995</th>\n",
       "      <td>Sales</td>\n",
       "      <td>Executive</td>\n",
       "      <td>28</td>\n",
       "      <td>Master</td>\n",
       "      <td>185000</td>\n",
       "    </tr>\n",
       "    <tr>\n",
       "      <th>9996</th>\n",
       "      <td>Sales</td>\n",
       "      <td>Executive</td>\n",
       "      <td>9</td>\n",
       "      <td>PhD</td>\n",
       "      <td>165000</td>\n",
       "    </tr>\n",
       "    <tr>\n",
       "      <th>9997</th>\n",
       "      <td>Sales</td>\n",
       "      <td>Executive</td>\n",
       "      <td>30</td>\n",
       "      <td>PhD</td>\n",
       "      <td>200000</td>\n",
       "    </tr>\n",
       "    <tr>\n",
       "      <th>9998</th>\n",
       "      <td>Engineering</td>\n",
       "      <td>Manager</td>\n",
       "      <td>14</td>\n",
       "      <td>Master</td>\n",
       "      <td>135000</td>\n",
       "    </tr>\n",
       "    <tr>\n",
       "      <th>9999</th>\n",
       "      <td>Sales</td>\n",
       "      <td>Analyst</td>\n",
       "      <td>4</td>\n",
       "      <td>Bachelor</td>\n",
       "      <td>70000</td>\n",
       "    </tr>\n",
       "  </tbody>\n",
       "</table>\n",
       "<p>10000 rows × 5 columns</p>\n",
       "</div>"
      ],
      "text/plain": [
       "       Department  Job_Title  Experience_Years Education_Level  Salary\n",
       "0     Engineering   Engineer                 1          Master   90000\n",
       "1           Sales  Executive                33          Master  195000\n",
       "2     Engineering     Intern                 1        Bachelor   35000\n",
       "3         Finance    Analyst                 9        Bachelor   75000\n",
       "4              HR    Analyst                 2          Master   70000\n",
       "...           ...        ...               ...             ...     ...\n",
       "9995        Sales  Executive                28          Master  185000\n",
       "9996        Sales  Executive                 9             PhD  165000\n",
       "9997        Sales  Executive                30             PhD  200000\n",
       "9998  Engineering    Manager                14          Master  135000\n",
       "9999        Sales    Analyst                 4        Bachelor   70000\n",
       "\n",
       "[10000 rows x 5 columns]"
      ]
     },
     "execution_count": 21,
     "metadata": {},
     "output_type": "execute_result"
    }
   ],
   "source": [
    "df=pd.read_csv('employess_cleandata.csv')\n",
    "df"
   ]
  },
  {
   "cell_type": "code",
   "execution_count": 22,
   "id": "6b004ed8-e46b-4d9d-ad64-f0d654d90f9d",
   "metadata": {},
   "outputs": [
    {
     "name": "stdout",
     "output_type": "stream",
     "text": [
      "0:\tlearn: 42414.3953001\ttotal: 34.6ms\tremaining: 34.5s\n",
      "100:\tlearn: 4370.5579547\ttotal: 3.29s\tremaining: 29.3s\n",
      "200:\tlearn: 4256.0053422\ttotal: 6.27s\tremaining: 24.9s\n",
      "300:\tlearn: 4211.0943847\ttotal: 9.25s\tremaining: 21.5s\n",
      "400:\tlearn: 4180.3644695\ttotal: 13.6s\tremaining: 20.3s\n",
      "500:\tlearn: 4148.8247553\ttotal: 17.6s\tremaining: 17.5s\n",
      "600:\tlearn: 4124.6756742\ttotal: 21s\tremaining: 14s\n",
      "700:\tlearn: 4105.9970672\ttotal: 24.5s\tremaining: 10.5s\n",
      "800:\tlearn: 4088.5360116\ttotal: 28s\tremaining: 6.94s\n",
      "900:\tlearn: 4071.2411544\ttotal: 31.2s\tremaining: 3.43s\n",
      "999:\tlearn: 4055.3824339\ttotal: 34.2s\tremaining: 0us\n",
      "===== Model Evaluation =====\n",
      "RMSE: 4220.078117809612\n",
      "MAE: 3393.5865519440167\n",
      "R2 Score: 0.9915503247801469\n"
     ]
    }
   ],
   "source": [
    "# Features and target\n",
    "X = df[['Department','Job_Title','Education_Level','Experience_Years']]\n",
    "y = df['Salary']\n",
    "\n",
    "# Split data\n",
    "X_train, X_test, y_train, y_test = train_test_split(X, y, test_size=0.2, random_state=42)\n",
    "\n",
    "# Specify categorical features (by column index)\n",
    "cat_features = [0,1,2]  # Department, Job_Title, Education_Level\n",
    "\n",
    "# Initialize CatBoost Regressor\n",
    "model = CatBoostRegressor(\n",
    "    iterations=1000,\n",
    "    learning_rate=0.1,\n",
    "    depth=6,\n",
    "    cat_features=cat_features,\n",
    "    verbose=100\n",
    ")\n",
    "\n",
    "# Train\n",
    "model.fit(X_train, y_train)\n",
    "\n",
    "# Predict\n",
    "y_pred = model.predict(X_test)\n",
    "\n",
    "rmse = root_mean_squared_error(y_test, y_pred)\n",
    "mae = mean_absolute_error(y_test, y_pred)\n",
    "r2 = r2_score(y_test, y_pred)\n",
    "\n",
    "print(\"===== Model Evaluation =====\")\n",
    "print(\"RMSE:\", rmse)\n",
    "print(\"MAE:\", mae)\n",
    "print(\"R2 Score:\", r2)"
   ]
  },
  {
   "cell_type": "code",
   "execution_count": 23,
   "id": "7c6ee7a3-7b3e-48ee-8287-95cc013b6fb7",
   "metadata": {},
   "outputs": [
    {
     "name": "stdout",
     "output_type": "stream",
     "text": [
      "Average Salary: 115381.5\n"
     ]
    }
   ],
   "source": [
    "#Average salary in dataset\n",
    "avg_salary = y.mean()\n",
    "print(\"Average Salary:\", avg_salary)\n"
   ]
  },
  {
   "cell_type": "code",
   "execution_count": 24,
   "id": "e0d8fe2c-ed10-46ad-95a1-f95d46b5d71f",
   "metadata": {},
   "outputs": [
    {
     "name": "stdout",
     "output_type": "stream",
     "text": [
      "MAE as % of Avg Salary: 2.94%\n"
     ]
    }
   ],
   "source": [
    "print(f\"MAE as % of Avg Salary: {mae / avg_salary * 100:.2f}%\")"
   ]
  },
  {
   "cell_type": "code",
   "execution_count": 25,
   "id": "5f2cfbaa-a2d8-4a17-98e1-ac95dadbd584",
   "metadata": {},
   "outputs": [
    {
     "name": "stdout",
     "output_type": "stream",
     "text": [
      "0:\tlearn: 42065.5255282\ttotal: 33.5ms\tremaining: 33.5s\n",
      "100:\tlearn: 4385.4692222\ttotal: 3.22s\tremaining: 28.6s\n",
      "200:\tlearn: 4242.4553042\ttotal: 6.41s\tremaining: 25.5s\n",
      "300:\tlearn: 4203.0536388\ttotal: 10.4s\tremaining: 24.1s\n",
      "400:\tlearn: 4181.5091560\ttotal: 14s\tremaining: 20.9s\n",
      "500:\tlearn: 4161.6943897\ttotal: 17s\tremaining: 16.9s\n",
      "600:\tlearn: 4144.3233149\ttotal: 20s\tremaining: 13.3s\n",
      "700:\tlearn: 4130.6733861\ttotal: 23.3s\tremaining: 9.93s\n",
      "800:\tlearn: 4115.9206263\ttotal: 27.2s\tremaining: 6.76s\n",
      "900:\tlearn: 4103.8330643\ttotal: 30.9s\tremaining: 3.4s\n",
      "999:\tlearn: 4091.2130084\ttotal: 34.5s\tremaining: 0us\n"
     ]
    },
    {
     "data": {
      "text/plain": [
       "<catboost.core.CatBoostRegressor at 0x224ec823920>"
      ]
     },
     "execution_count": 25,
     "metadata": {},
     "output_type": "execute_result"
    }
   ],
   "source": [
    "# ========== FINAL TRAINING ==========\n",
    "# Retrain model on full dataset (train + test)\n",
    "final_model = CatBoostRegressor(\n",
    "    iterations=1000,\n",
    "    learning_rate=0.1,\n",
    "    depth=6,\n",
    "    cat_features=cat_features,\n",
    "    verbose=100,\n",
    "    random_seed=42\n",
    ")\n",
    "\n",
    "final_model.fit(X, y, cat_features=cat_features)\n",
    "\n"
   ]
  },
  {
   "cell_type": "code",
   "execution_count": 26,
   "id": "38591f08-fc31-4224-bd3e-b893b70496c2",
   "metadata": {},
   "outputs": [
    {
     "name": "stdout",
     "output_type": "stream",
     "text": [
      "✅ Final model saved as 'catboost_salary_model.cbm'\n"
     ]
    }
   ],
   "source": [
    "# Save model\n",
    "final_model.save_model(\"catboost_salary_model.cbm\")\n",
    "print(\"✅ Final model saved as 'catboost_salary_model.cbm'\")"
   ]
  },
  {
   "cell_type": "code",
   "execution_count": 28,
   "id": "2c07e7ee-8196-43a7-905e-cba8df71223f",
   "metadata": {},
   "outputs": [
    {
     "name": "stdout",
     "output_type": "stream",
     "text": [
      "Sample predictions: [137586.85060659  75283.99750199  67818.45685331 126831.45619211\n",
      " 142248.84401905]\n"
     ]
    }
   ],
   "source": [
    "# Predict on test data\n",
    "y_pred = final_model.predict(X_test)\n",
    "\n",
    "# Show first 5 predictions\n",
    "print(\"Sample predictions:\", y_pred[:5])\n"
   ]
  },
  {
   "cell_type": "code",
   "execution_count": 29,
   "id": "58aece37-7633-4154-8df7-87a75fd98474",
   "metadata": {},
   "outputs": [
    {
     "name": "stdout",
     "output_type": "stream",
     "text": [
      "Reloaded Model Evaluation:\n",
      "RMSE: 4107.742297454522\n",
      "MAE: 3291.307828151837\n",
      "R² Score: 0.9919941874777202\n"
     ]
    }
   ],
   "source": [
    "from sklearn.metrics import mean_absolute_error, mean_squared_error, r2_score\n",
    "import numpy as np\n",
    "\n",
    "rmse = np.sqrt(mean_squared_error(y_test, y_pred))\n",
    "mae = mean_absolute_error(y_test, y_pred)\n",
    "r2 = r2_score(y_test, y_pred)\n",
    "\n",
    "print(\"Reloaded Model Evaluation:\")\n",
    "print(\"RMSE:\", rmse)\n",
    "print(\"MAE:\", mae)\n",
    "print(\"R² Score:\", r2)\n"
   ]
  }
 ],
 "metadata": {
  "kernelspec": {
   "display_name": "Python 3 (ipykernel)",
   "language": "python",
   "name": "python3"
  },
  "language_info": {
   "codemirror_mode": {
    "name": "ipython",
    "version": 3
   },
   "file_extension": ".py",
   "mimetype": "text/x-python",
   "name": "python",
   "nbconvert_exporter": "python",
   "pygments_lexer": "ipython3",
   "version": "3.12.7"
  }
 },
 "nbformat": 4,
 "nbformat_minor": 5
}
